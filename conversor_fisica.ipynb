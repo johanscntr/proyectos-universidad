{
  "nbformat": 4,
  "nbformat_minor": 0,
  "metadata": {
    "colab": {
      "provenance": [],
      "authorship_tag": "ABX9TyOfmqs2AIpQVVwBE/whbKNM",
      "include_colab_link": true
    },
    "kernelspec": {
      "name": "python3",
      "display_name": "Python 3"
    },
    "language_info": {
      "name": "python"
    }
  },
  "cells": [
    {
      "cell_type": "markdown",
      "metadata": {
        "id": "view-in-github",
        "colab_type": "text"
      },
      "source": [
        "<a href=\"https://colab.research.google.com/github/johanscntr/proyectos-universidad/blob/main/conversor_fisica.ipynb\" target=\"_parent\"><img src=\"https://colab.research.google.com/assets/colab-badge.svg\" alt=\"Open In Colab\"/></a>"
      ]
    },
    {
      "cell_type": "code",
      "execution_count": null,
      "metadata": {
        "id": "UrdC1g76qTqZ"
      },
      "outputs": [],
      "source": []
    },
    {
      "cell_type": "code",
      "source": [
        "# tiempo es igual a 5\n",
        "t= 5\n",
        "# distancia es igual a 20\n",
        "d= 20\n",
        "# velocidad es igual a d/t\n",
        "v = d/t\n",
        "print (v)\n"
      ],
      "metadata": {
        "colab": {
          "base_uri": "https://localhost:8080/"
        },
        "id": "_SHp8D3kqWG7",
        "outputId": "b4215e73-347d-42c2-aa8d-e521067a06dc"
      },
      "execution_count": null,
      "outputs": [
        {
          "output_type": "stream",
          "name": "stdout",
          "text": [
            "4.0\n"
          ]
        }
      ]
    },
    {
      "cell_type": "code",
      "source": [
        "# programar conversor de segundos, minutos, horas y dias\n",
        "def convertir_tiempo(valor, unidad_origen, unidad_destino):\n",
        "  #conversor de segundos a las unidades de medida del tiempo\n",
        "    if unidad_origen == \"segundos\":\n",
        "        if unidad_destino == \"minutos\":\n",
        "            return valor / 60\n",
        "        elif unidad_destino == \"horas\":\n",
        "            return valor / 3600\n",
        "        elif unidad_destino == \"dias\":\n",
        "            return valor / 86400\n",
        "  #conversor de minutos a las unidades de tiempo\n",
        "    elif unidad_origen == \"minutos\":\n",
        "        if unidad_destino == \"segundos\":\n",
        "            return valor * 60\n",
        "        elif unidad_destino == \"horas\":\n",
        "            return valor / 60\n",
        "        elif unidad_destino == \"dias\":\n",
        "            return valor / 1440\n",
        "  #conversor de horas a las unidades  de tiempo\n",
        "    elif unidad_origen == \"horas\":\n",
        "        if unidad_destino == \"segundos\":\n",
        "            return valor * 3600\n",
        "        elif unidad_destino == \"minutos\":\n",
        "            return valor * 60\n",
        "        elif unidad_destino == \"dias\":\n",
        "            return valor / 24\n",
        "  #conversor de dias a las unidades de tiempo\n",
        "    elif unidad_origen == \"dias\":\n",
        "        if unidad_destino == \"segundos\":\n",
        "            return valor * 86400\n",
        "        elif unidad_destino == \"minutos\":\n",
        "            return valor * 1440\n",
        "        elif unidad_destino == \"horas\":\n",
        "            return valor * 24\n",
        "#funcion principal del programa, perimite al usuario interactuar con el programa\n",
        "def main():\n",
        "    valor = float(input(\"Ingrese el valor: \"))\n",
        "    unidad_origen = input(\"Elige el dato de origen segundos, minutos, horas, dias: \")\n",
        "    unidad_destino = input(\"Ingrese el dato de destino segundos, minutos, horas, dias: \")\n",
        "    resultado = convertir_tiempo(valor, unidad_origen, unidad_destino)\n",
        "    print(f\"{valor} {unidad_origen} son {resultado} {unidad_destino}\")\n",
        "#verifica si el script se esta ejecuntando directamente\n",
        "if __name__ == \"__main__\":\n",
        "    main() # llamada de la funcion principal\n",
        "\n",
        "\n",
        "\n",
        "\n",
        "\n",
        "\n",
        "\n",
        "\n",
        "\n",
        "\n"
      ],
      "metadata": {
        "id": "wB92hhqPreN9",
        "outputId": "467e3f7f-9ed0-402c-f51e-626664ffa66a",
        "colab": {
          "base_uri": "https://localhost:8080/"
        }
      },
      "execution_count": 3,
      "outputs": [
        {
          "output_type": "stream",
          "name": "stdout",
          "text": [
            "Ingrese el valor: 24\n",
            "Elige el dato de origen segundos, minutos, horas, dias: horas\n",
            "Ingrese el dato de destino segundos, minutos, horas, dias: dias\n",
            "24.0 horas son 1.0 dias\n"
          ]
        }
      ]
    },
    {
      "cell_type": "code",
      "source": [],
      "metadata": {
        "id": "3XWXs7y35ey7"
      },
      "execution_count": null,
      "outputs": []
    }
  ]
}